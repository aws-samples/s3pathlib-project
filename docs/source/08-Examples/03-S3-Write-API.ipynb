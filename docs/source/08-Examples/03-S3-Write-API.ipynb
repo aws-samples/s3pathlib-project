{
 "cells": [
  {
   "cell_type": "markdown",
   "source": [
    "# S3 Write API\n",
    "\n",
    "## What is S3 Write API?\n",
    "\n",
    "AWS offers many S3 Write APIs for put, copy, delete objects, and more. Since write APIs can cause irreversible impacts, it's important to ensure that you understand the behavior of the API before using it. In this section, we will learn how to use these APIs.\n",
    "\n",
    "## Simple Text / Bytes Read and Write"
   ],
   "metadata": {
    "collapsed": false,
    "pycharm": {
     "name": "#%% md\n"
    }
   }
  },
  {
   "cell_type": "raw",
   "source": [
    "- :meth:`~s3pathlib.core.rw.ReadAndWriteAPIMixin.read_text`\n",
    "- :meth:`~s3pathlib.core.rw.ReadAndWriteAPIMixin.read_bytes`\n",
    "- :meth:`~s3pathlib.core.rw.ReadAndWriteAPIMixin.write_text`\n",
    "- :meth:`~s3pathlib.core.rw.ReadAndWriteAPIMixin.write_bytes`"
   ],
   "metadata": {
    "collapsed": false,
    "raw_mimetype": "text/restructuredtext",
    "pycharm": {
     "name": "#%% raw\n"
    }
   }
  },
  {
   "cell_type": "code",
   "execution_count": 1,
   "outputs": [
    {
     "data": {
      "text/plain": "S3Path('s3://s3pathlib/file.txt')"
     },
     "execution_count": 1,
     "metadata": {},
     "output_type": "execute_result"
    }
   ],
   "source": [
    "from s3pathlib import S3Path\n",
    "\n",
    "s3path = S3Path(\"s3://s3pathlib/file.txt\")\n",
    "s3path"
   ],
   "metadata": {
    "collapsed": false,
    "pycharm": {
     "name": "#%%\n"
    }
   }
  },
  {
   "cell_type": "code",
   "execution_count": 2,
   "outputs": [
    {
     "data": {
      "text/plain": "'Hello Alice!'"
     },
     "execution_count": 2,
     "metadata": {},
     "output_type": "execute_result"
    }
   ],
   "source": [
    "s3path.write_text(\"Hello Alice!\")\n",
    "s3path.read_text()"
   ],
   "metadata": {
    "collapsed": false,
    "pycharm": {
     "name": "#%%\n"
    }
   }
  },
  {
   "cell_type": "code",
   "execution_count": 3,
   "outputs": [
    {
     "data": {
      "text/plain": "b'Hello Bob!'"
     },
     "execution_count": 3,
     "metadata": {},
     "output_type": "execute_result"
    }
   ],
   "source": [
    "s3path.write_bytes(b\"Hello Bob!\")\n",
    "s3path.read_bytes()"
   ],
   "metadata": {
    "collapsed": false,
    "pycharm": {
     "name": "#%%\n"
    }
   }
  },
  {
   "cell_type": "markdown",
   "source": [
    "Note that the ``s3path.write_bytes()`` or ``s3path.write_text()`` will overwrite the existing file silently. They don't raise an error if the file already exists. If you want to avoid overwrite, you can check the existence of the file before writing."
   ],
   "metadata": {
    "collapsed": false,
    "pycharm": {
     "name": "#%% md\n"
    }
   }
  },
  {
   "cell_type": "code",
   "execution_count": 46,
   "outputs": [],
   "source": [
    "if s3path.exists() is False:\n",
    "    s3path.write_text(\"Hello Alice!\")"
   ],
   "metadata": {
    "collapsed": false,
    "pycharm": {
     "name": "#%%\n"
    }
   }
  },
  {
   "cell_type": "markdown",
   "source": [
    "The ``s3path.write_bytes()`` and ``s3path.write_text()`` will return a new object representing the object you just put. This is because on a versioning enabled bucket, the ``put_object`` API will create a new version of the object. So the ``s3path.write_bytes()`` and ``s3path.write_text()`` should return the new version of the object."
   ],
   "metadata": {
    "collapsed": false,
    "pycharm": {
     "name": "#%% md\n"
    }
   }
  },
  {
   "cell_type": "code",
   "execution_count": 49,
   "outputs": [
    {
     "name": "stdout",
     "output_type": "stream",
     "text": [
      "False\n"
     ]
    }
   ],
   "source": [
    "# in regular bucket, there's no versioning\n",
    "s3path_new = s3path.write_text(\"Hello Alice!\")\n",
    "print(s3path_new == s3path)\n",
    "print(s3path_new is s3path)"
   ],
   "metadata": {
    "collapsed": false,
    "pycharm": {
     "name": "#%%\n"
    }
   }
  },
  {
   "cell_type": "code",
   "execution_count": 55,
   "outputs": [],
   "source": [
    "# in versioning enabled bucket, write_text() will create a new version\n",
    "s3path = S3Path(\"s3://s3pathlib-versioning-enabled/file.txt\")\n",
    "s3path_v1 = s3path.write_text(\"v1\")\n",
    "s3path_v2 = s3path.write_text(\"v2\")"
   ],
   "metadata": {
    "collapsed": false,
    "pycharm": {
     "name": "#%%\n"
    }
   }
  },
  {
   "cell_type": "code",
   "execution_count": 56,
   "outputs": [
    {
     "data": {
      "text/plain": "'v1'"
     },
     "execution_count": 56,
     "metadata": {},
     "output_type": "execute_result"
    }
   ],
   "source": [
    "s3path_v1.read_text(version_id=s3path_v1.version_id)"
   ],
   "metadata": {
    "collapsed": false,
    "pycharm": {
     "name": "#%%\n"
    }
   }
  },
  {
   "cell_type": "code",
   "execution_count": 57,
   "outputs": [
    {
     "data": {
      "text/plain": "'v2'"
     },
     "execution_count": 57,
     "metadata": {},
     "output_type": "execute_result"
    }
   ],
   "source": [
    "s3path_v2.read_text(version_id=s3path_v2.version_id)"
   ],
   "metadata": {
    "collapsed": false,
    "pycharm": {
     "name": "#%%\n"
    }
   }
  },
  {
   "cell_type": "code",
   "execution_count": 59,
   "outputs": [
    {
     "name": "stdout",
     "output_type": "stream",
     "text": [
      "v1 = 5e6tkjttW8HOiKFTUlhzHDbQaYYd_Hnb\n",
      "v2 = ujV73FmN0pPMIVFZ1YaviZyGeNCQ1a04\n"
     ]
    }
   ],
   "source": [
    "print(f\"v1 = {s3path_v1.version_id}\")\n",
    "print(f\"v2 = {s3path_v2.version_id}\")"
   ],
   "metadata": {
    "collapsed": false,
    "pycharm": {
     "name": "#%%\n"
    }
   }
  },
  {
   "cell_type": "markdown",
   "source": [
    "## File-like object IO\n",
    "\n",
    "[File Object](https://docs.python.org/3/glossary.html#term-file-object( is an object exposing a file-oriented API (with methods such as ``read()`` or ``write()``) to an underlying resource. Depending on the way it was created, a file object can mediate access to a real on-disk file or to another type of storage or communication device (for example standard input/output, in-memory buffers, sockets, pipes, etc.). File objects are also called file-like objects or streams.\n",
    "\n",
    "- [json](https://docs.python.org/3/library/json.html)\n",
    "- [yaml](https://pyyaml.org/wiki/PyYAMLDocumentation)\n",
    "- [pandas](https://pandas.pydata.org/docs/reference/io.html)\n",
    "- [polars](https://pola-rs.github.io/polars/py-polars/html/reference/io.html)"
   ],
   "metadata": {
    "collapsed": false,
    "pycharm": {
     "name": "#%% md\n"
    }
   }
  },
  {
   "cell_type": "raw",
   "source": [
    ".. note::\n",
    "\n",
    "    Special Thanks to `smart_open <https://github.com/RaRe-Technologies/smart_open>`_. :meth:`S3Path.open <s3pathlib.core.opener.OpenerAPIMixin.open>` is just a wrapper around ``smart_open``.\n",
    "\n",
    ".. tip::\n",
    "\n",
    "    :meth:`S3Path.open <s3pathlib.core.opener.OpenerAPIMixin.open>` also support ``version_id`` parameter."
   ],
   "metadata": {
    "collapsed": false,
    "raw_mimetype": "text/restructuredtext",
    "pycharm": {
     "name": "#%% raw\n"
    }
   }
  },
  {
   "cell_type": "markdown",
   "source": [
    "### JSON"
   ],
   "metadata": {
    "collapsed": false,
    "pycharm": {
     "name": "#%% md\n"
    }
   }
  },
  {
   "cell_type": "code",
   "execution_count": 4,
   "outputs": [],
   "source": [
    "import json\n",
    "\n",
    "s3path = S3Path(\"s3://s3pathlib/data.json\")\n",
    "\n",
    "# write to s3\n",
    "with s3path.open(\"w\") as f:\n",
    "    json.dump({\"name\": \"Alice\"}, f)"
   ],
   "metadata": {
    "collapsed": false,
    "pycharm": {
     "name": "#%%\n"
    }
   }
  },
  {
   "cell_type": "code",
   "execution_count": 5,
   "outputs": [
    {
     "name": "stdout",
     "output_type": "stream",
     "text": [
      "{'name': 'Alice'}\n"
     ]
    }
   ],
   "source": [
    "# read from s3\n",
    "with s3path.open(\"r\") as f:\n",
    "    print(json.load(f))"
   ],
   "metadata": {
    "collapsed": false,
    "pycharm": {
     "name": "#%%\n"
    }
   }
  },
  {
   "cell_type": "markdown",
   "source": [
    "### YAML"
   ],
   "metadata": {
    "collapsed": false,
    "pycharm": {
     "name": "#%% md\n"
    }
   }
  },
  {
   "cell_type": "code",
   "execution_count": 36,
   "outputs": [],
   "source": [
    "import yaml\n",
    "\n",
    "s3path = S3Path(\"s3://s3pathlib/config.yml\")\n",
    "\n",
    "# write to s3\n",
    "with s3path.open(\"w\") as f:\n",
    "    yaml.dump({\"name\": \"Alice\"}, f)"
   ],
   "metadata": {
    "collapsed": false,
    "pycharm": {
     "name": "#%%\n"
    }
   }
  },
  {
   "cell_type": "code",
   "execution_count": 37,
   "outputs": [
    {
     "name": "stdout",
     "output_type": "stream",
     "text": [
      "{'name': 'Alice'}\n"
     ]
    }
   ],
   "source": [
    "# read from s3\n",
    "with s3path.open(\"r\") as f:\n",
    "    print(yaml.load(f, Loader=yaml.SafeLoader))"
   ],
   "metadata": {
    "collapsed": false,
    "pycharm": {
     "name": "#%%\n"
    }
   }
  },
  {
   "cell_type": "markdown",
   "source": [
    "### Pandas"
   ],
   "metadata": {
    "collapsed": false,
    "pycharm": {
     "name": "#%% md\n"
    }
   }
  },
  {
   "cell_type": "code",
   "execution_count": 25,
   "outputs": [],
   "source": [
    "import pandas as pd\n",
    "\n",
    "s3path = S3Path(\"s3://s3pathlib/data.csv\")\n",
    "\n",
    "df = pd.DataFrame(\n",
    "    [\n",
    "        (1, \"Alice\"),\n",
    "        (2, \"Bob\"),\n",
    "    ],\n",
    "    columns=[\"id\", \"name\"]\n",
    ")\n",
    "\n",
    "# write to s3\n",
    "with s3path.open(\"w\") as f:\n",
    "    df.to_csv(f, index=False)"
   ],
   "metadata": {
    "collapsed": false,
    "pycharm": {
     "name": "#%%\n"
    }
   }
  },
  {
   "cell_type": "code",
   "execution_count": 27,
   "outputs": [
    {
     "name": "stdout",
     "output_type": "stream",
     "text": [
      "   id   name\n",
      "0   1  Alice\n",
      "1   2    Bob\n"
     ]
    }
   ],
   "source": [
    "# read from s3\n",
    "with s3path.open(\"r\") as f:\n",
    "    df = pd.read_csv(f)\n",
    "    print(df)"
   ],
   "metadata": {
    "collapsed": false,
    "pycharm": {
     "name": "#%%\n"
    }
   }
  },
  {
   "cell_type": "markdown",
   "source": [
    "### Polars"
   ],
   "metadata": {
    "collapsed": false,
    "pycharm": {
     "name": "#%% md\n"
    }
   }
  },
  {
   "cell_type": "code",
   "execution_count": 28,
   "outputs": [],
   "source": [
    "import polars as pl\n",
    "\n",
    "s3path = S3Path(\"s3://s3pathlib/data.parquet\")\n",
    "\n",
    "df = pl.DataFrame(\n",
    "    [\n",
    "        (1, \"Alice\"),\n",
    "        (2, \"Bob\"),\n",
    "    ],\n",
    "    schema=[\"id\", \"name\"]\n",
    ")\n",
    "\n",
    "# write to s3\n",
    "with s3path.open(\"wb\") as f:\n",
    "    df.write_parquet(f)"
   ],
   "metadata": {
    "collapsed": false,
    "pycharm": {
     "name": "#%%\n"
    }
   }
  },
  {
   "cell_type": "code",
   "execution_count": 29,
   "outputs": [
    {
     "name": "stdout",
     "output_type": "stream",
     "text": [
      "shape: (2, 2)\n",
      "┌─────┬───────┐\n",
      "│ id  ┆ name  │\n",
      "│ --- ┆ ---   │\n",
      "│ i64 ┆ str   │\n",
      "╞═════╪═══════╡\n",
      "│ 1   ┆ Alice │\n",
      "│ 2   ┆ Bob   │\n",
      "└─────┴───────┘\n"
     ]
    }
   ],
   "source": [
    "# read from s3\n",
    "with s3path.open(\"rb\") as f:\n",
    "    df = pl.read_parquet(f)\n",
    "    print(df)"
   ],
   "metadata": {
    "collapsed": false,
    "pycharm": {
     "name": "#%%\n"
    }
   }
  },
  {
   "cell_type": "markdown",
   "source": [
    "### Metadata and Tagging"
   ],
   "metadata": {
    "collapsed": false,
    "pycharm": {
     "name": "#%% md\n"
    }
   }
  },
  {
   "cell_type": "code",
   "execution_count": 38,
   "outputs": [],
   "source": [
    "s3path = S3Path(\"s3://s3pathlib/file.txt\")"
   ],
   "metadata": {
    "collapsed": false,
    "pycharm": {
     "name": "#%%\n"
    }
   }
  },
  {
   "cell_type": "code",
   "execution_count": 39,
   "outputs": [
    {
     "data": {
      "text/plain": "S3Path('s3://s3pathlib/file.txt')"
     },
     "execution_count": 39,
     "metadata": {},
     "output_type": "execute_result"
    }
   ],
   "source": [
    "s3path.write_text(\"Hello\", metadata={\"name\": \"alice\", \"age\": \"18\"}, tags={\"name\": \"alice\", \"age\": \"18\"})"
   ],
   "metadata": {
    "collapsed": false,
    "pycharm": {
     "name": "#%%\n"
    }
   }
  },
  {
   "cell_type": "code",
   "execution_count": 40,
   "outputs": [
    {
     "data": {
      "text/plain": "{'age': '18', 'name': 'alice'}"
     },
     "execution_count": 40,
     "metadata": {},
     "output_type": "execute_result"
    }
   ],
   "source": [
    "s3path.metadata"
   ],
   "metadata": {
    "collapsed": false,
    "pycharm": {
     "name": "#%%\n"
    }
   }
  },
  {
   "cell_type": "code",
   "execution_count": 43,
   "outputs": [
    {
     "data": {
      "text/plain": "(None, {'name': 'alice', 'age': '18'})"
     },
     "execution_count": 43,
     "metadata": {},
     "output_type": "execute_result"
    }
   ],
   "source": [
    "s3path.get_tags()"
   ],
   "metadata": {
    "collapsed": false,
    "pycharm": {
     "name": "#%%\n"
    }
   }
  },
  {
   "cell_type": "markdown",
   "source": [
    "There's [no way to only update the metadata without updating the content](https://docs.aws.amazon.com/AmazonS3/latest/userguide/UsingMetadata.html). You have to put the object again with the new metadata."
   ],
   "metadata": {
    "collapsed": false,
    "pycharm": {
     "name": "#%% md\n"
    }
   }
  },
  {
   "cell_type": "code",
   "execution_count": 44,
   "outputs": [
    {
     "data": {
      "text/plain": "S3Path('s3://s3pathlib/file.txt')"
     },
     "execution_count": 44,
     "metadata": {},
     "output_type": "execute_result"
    }
   ],
   "source": [
    "s3path.write_text(\"Hello\", metadata={\"name\": \"alice\", \"age\": \"24\"})"
   ],
   "metadata": {
    "collapsed": false,
    "pycharm": {
     "name": "#%%\n"
    }
   }
  },
  {
   "cell_type": "code",
   "execution_count": 45,
   "outputs": [
    {
     "data": {
      "text/plain": "{'age': '18', 'name': 'alice'}"
     },
     "execution_count": 45,
     "metadata": {},
     "output_type": "execute_result"
    }
   ],
   "source": [
    "S3Path(\"s3://s3pathlib/file.txt\").metadata"
   ],
   "metadata": {
    "collapsed": false,
    "pycharm": {
     "name": "#%%\n"
    }
   }
  },
  {
   "cell_type": "markdown",
   "source": [
    "## Delete, Copy, Move (Cut)\n",
    "\n"
   ],
   "metadata": {
    "collapsed": false,
    "pycharm": {
     "name": "#%% md\n"
    }
   }
  },
  {
   "cell_type": "raw",
   "source": [
    "``s3pathlib`` provides the following APIs:\n",
    "\n",
    "- :meth:`~s3pathlib.core.delete.DeleteAPIMixin.delete`: delete object or directory (recursively). similar to `os.remove <https://docs.python.org/3/library/os.html#os.remove>`_ and `shutil.rmtree <https://docs.python.org/3/library/shutil.html#shutil.rmtree>`_\n",
    "- :meth:`~s3pathlib.core.copy.CopyAPIMixin.copy_to`: copy object or directory (recursively) from one location to another. similar to `shutil.copy <https://docs.python.org/3/library/shutil.html#shutil.copy>`_ and `shutil.copytree <https://docs.python.org/3/library/shutil.html#shutil.copytree>`_\n",
    "- :meth:`~s3pathlib.core.copy.CopyAPIMixin.move_to`: move (cut) object or directory (recursively) from one location to another. similar to `shutil.move <https://docs.python.org/3/library/shutil.html#shutil.move>`_\n",
    "- :meth:`~s3pathlib.core.upload.UploadAPIMixin.upload_file`: upload a file to s3.\n",
    "- :meth:`~s3pathlib.core.upload.UploadAPIMixin.upload_dir`: upload a directory (recursively) to a s3 prefix."
   ],
   "metadata": {
    "collapsed": false,
    "pycharm": {
     "name": "#%% raw\n"
    }
   }
  },
  {
   "cell_type": "markdown",
   "source": [
    "**Delete**\n",
    "\n",
    "The ``delete`` API is the recommended API from 2.X.Y to delete:\n",
    "\n",
    "- object\n",
    "- directory\n",
    "- specific version of an object\n",
    "- all versions of an object\n",
    "- all object all versions in a directory\n",
    "\n",
    "By default, if you are trying to delete everything in S3 bucket, it will prompt to confirm the deletion. You can skip the confirmation by setting ``skip_prompt=True``."
   ],
   "metadata": {
    "collapsed": false,
    "pycharm": {
     "name": "#%% md\n"
    }
   }
  },
  {
   "cell_type": "code",
   "execution_count": 17,
   "outputs": [
    {
     "data": {
      "text/plain": "3"
     },
     "execution_count": 17,
     "metadata": {},
     "output_type": "execute_result"
    }
   ],
   "source": [
    "s3dir = S3Path(\"s3://s3pathlib/tmp/\")\n",
    "s3dir.joinpath(\"README.txt\").write_text(\"readme\")\n",
    "s3dir.joinpath(\"file.txt\").write_text(\"Hello\")\n",
    "s3dir.joinpath(\"folder/file.txt\").write_text(\"Hello\")\n",
    "s3dir.count_objects()"
   ],
   "metadata": {
    "collapsed": false,
    "pycharm": {
     "name": "#%%\n"
    }
   }
  },
  {
   "cell_type": "code",
   "execution_count": 18,
   "outputs": [
    {
     "data": {
      "text/plain": "False"
     },
     "execution_count": 18,
     "metadata": {},
     "output_type": "execute_result"
    }
   ],
   "source": [
    "# Delete a file\n",
    "s3path_readme = s3dir.joinpath(\"README.txt\")\n",
    "s3path_readme.delete()\n",
    "s3path_readme.exists()"
   ],
   "metadata": {
    "collapsed": false,
    "pycharm": {
     "name": "#%%\n"
    }
   }
  },
  {
   "cell_type": "code",
   "execution_count": 19,
   "outputs": [
    {
     "data": {
      "text/plain": "2"
     },
     "execution_count": 19,
     "metadata": {},
     "output_type": "execute_result"
    }
   ],
   "source": [
    "s3dir.count_objects()"
   ],
   "metadata": {
    "collapsed": false,
    "pycharm": {
     "name": "#%%\n"
    }
   }
  },
  {
   "cell_type": "code",
   "execution_count": 20,
   "outputs": [
    {
     "data": {
      "text/plain": "0"
     },
     "execution_count": 20,
     "metadata": {},
     "output_type": "execute_result"
    }
   ],
   "source": [
    "# Delete the entire folder\n",
    "s3dir.delete()\n",
    "s3dir.count_objects()"
   ],
   "metadata": {
    "collapsed": false,
    "pycharm": {
     "name": "#%%\n"
    }
   }
  },
  {
   "cell_type": "code",
   "execution_count": 24,
   "outputs": [
    {
     "data": {
      "text/plain": "[S3Path('s3://s3pathlib-versioning-enabled/file.txt'),\n S3Path('s3://s3pathlib-versioning-enabled/file.txt'),\n S3Path('s3://s3pathlib-versioning-enabled/file.txt')]"
     },
     "execution_count": 24,
     "metadata": {},
     "output_type": "execute_result"
    }
   ],
   "source": [
    "# Delete a specific version of an object (permanently delete)\n",
    "s3path = S3Path(\"s3://s3pathlib-versioning-enabled/file.txt\")\n",
    "s3path.delete(is_hard_delete=True)\n",
    "v1 = s3path.write_text(\"v1\").version_id\n",
    "v2 = s3path.write_text(\"v2\").version_id\n",
    "v3 = s3path.write_text(\"v3\").version_id\n",
    "s3path.list_object_versions().all()"
   ],
   "metadata": {
    "collapsed": false,
    "pycharm": {
     "name": "#%%\n"
    }
   }
  },
  {
   "cell_type": "code",
   "execution_count": 25,
   "outputs": [
    {
     "ename": "ClientError",
     "evalue": "An error occurred (NoSuchVersion) when calling the GetObject operation: The specified version does not exist.",
     "output_type": "error",
     "traceback": [
      "\u001B[0;31m---------------------------------------------------------------------------\u001B[0m",
      "\u001B[0;31mClientError\u001B[0m                               Traceback (most recent call last)",
      "Cell \u001B[0;32mIn[25], line 2\u001B[0m\n\u001B[1;32m      1\u001B[0m s3path\u001B[38;5;241m.\u001B[39mdelete(version_id\u001B[38;5;241m=\u001B[39mv1)\n\u001B[0;32m----> 2\u001B[0m \u001B[43ms3path\u001B[49m\u001B[38;5;241;43m.\u001B[39;49m\u001B[43mread_text\u001B[49m\u001B[43m(\u001B[49m\u001B[43mversion_id\u001B[49m\u001B[38;5;241;43m=\u001B[39;49m\u001B[43mv1\u001B[49m\u001B[43m)\u001B[49m\n",
      "File \u001B[0;32m~/Documents/GitHub/s3pathlib-project/s3pathlib/core/rw.py:219\u001B[0m, in \u001B[0;36mread_text\u001B[0;34m(self, encoding, errors, version_id, if_match, if_modified_since, if_none_match, if_unmodified_since, range, response_cache_control, response_content_disposition, response_content_encoding, response_content_language, response_content_type, response_expires, sse_customer_algorithm, sse_customer_key, request_payer, part_number, expected_bucket_owner, checksum_mode, bsm)\u001B[0m\n\u001B[1;32m    140\u001B[0m \u001B[38;5;28;01mdef\u001B[39;00m \u001B[38;5;21mread_text\u001B[39m(\n\u001B[1;32m    141\u001B[0m     \u001B[38;5;28mself\u001B[39m: \u001B[38;5;124m\"\u001B[39m\u001B[38;5;124mS3Path\u001B[39m\u001B[38;5;124m\"\u001B[39m,\n\u001B[1;32m    142\u001B[0m     encoding\u001B[38;5;241m=\u001B[39m\u001B[38;5;124m\"\u001B[39m\u001B[38;5;124mutf-8\u001B[39m\u001B[38;5;124m\"\u001B[39m,\n\u001B[0;32m   (...)\u001B[0m\n\u001B[1;32m    162\u001B[0m     bsm: T\u001B[38;5;241m.\u001B[39mOptional[\u001B[38;5;124m\"\u001B[39m\u001B[38;5;124mBotoSesManager\u001B[39m\u001B[38;5;124m\"\u001B[39m] \u001B[38;5;241m=\u001B[39m \u001B[38;5;28;01mNone\u001B[39;00m,\n\u001B[1;32m    163\u001B[0m ) \u001B[38;5;241m-\u001B[39m\u001B[38;5;241m>\u001B[39m \u001B[38;5;28mstr\u001B[39m:\n\u001B[1;32m    164\u001B[0m \u001B[38;5;250m    \u001B[39m\u001B[38;5;124;03m\"\"\"\u001B[39;00m\n\u001B[1;32m    165\u001B[0m \u001B[38;5;124;03m    Read text data from s3 object.\u001B[39;00m\n\u001B[1;32m    166\u001B[0m \u001B[38;5;124;03m    A simple wrapper around get_object_.\u001B[39;00m\n\u001B[0;32m   (...)\u001B[0m\n\u001B[1;32m    215\u001B[0m \u001B[38;5;124;03m        arguments.\u001B[39;00m\n\u001B[1;32m    216\u001B[0m \u001B[38;5;124;03m    \"\"\"\u001B[39;00m\n\u001B[1;32m    217\u001B[0m     data \u001B[38;5;241m=\u001B[39m \u001B[38;5;28mself\u001B[39m\u001B[38;5;241m.\u001B[39mread_bytes(\n\u001B[1;32m    218\u001B[0m         version_id\u001B[38;5;241m=\u001B[39mversion_id,\n\u001B[0;32m--> 219\u001B[0m         if_match\u001B[38;5;241m=\u001B[39mif_match,\n\u001B[1;32m    220\u001B[0m         if_modified_since\u001B[38;5;241m=\u001B[39mif_modified_since,\n\u001B[1;32m    221\u001B[0m         if_none_match\u001B[38;5;241m=\u001B[39mif_none_match,\n\u001B[1;32m    222\u001B[0m         if_unmodified_since\u001B[38;5;241m=\u001B[39mif_unmodified_since,\n\u001B[1;32m    223\u001B[0m         \u001B[38;5;28mrange\u001B[39m\u001B[38;5;241m=\u001B[39m\u001B[38;5;28mrange\u001B[39m,\n\u001B[1;32m    224\u001B[0m         response_cache_control\u001B[38;5;241m=\u001B[39mresponse_cache_control,\n\u001B[1;32m    225\u001B[0m         response_content_disposition\u001B[38;5;241m=\u001B[39mresponse_content_disposition,\n\u001B[1;32m    226\u001B[0m         response_content_encoding\u001B[38;5;241m=\u001B[39mresponse_content_encoding,\n\u001B[1;32m    227\u001B[0m         response_content_language\u001B[38;5;241m=\u001B[39mresponse_content_language,\n\u001B[1;32m    228\u001B[0m         response_content_type\u001B[38;5;241m=\u001B[39mresponse_content_type,\n\u001B[1;32m    229\u001B[0m         response_expires\u001B[38;5;241m=\u001B[39mresponse_expires,\n\u001B[1;32m    230\u001B[0m         sse_customer_algorithm\u001B[38;5;241m=\u001B[39msse_customer_algorithm,\n\u001B[1;32m    231\u001B[0m         sse_customer_key\u001B[38;5;241m=\u001B[39msse_customer_key,\n\u001B[1;32m    232\u001B[0m         request_payer\u001B[38;5;241m=\u001B[39mrequest_payer,\n\u001B[1;32m    233\u001B[0m         part_number\u001B[38;5;241m=\u001B[39mpart_number,\n\u001B[1;32m    234\u001B[0m         expected_bucket_owner\u001B[38;5;241m=\u001B[39mexpected_bucket_owner,\n\u001B[1;32m    235\u001B[0m         checksum_mode\u001B[38;5;241m=\u001B[39mchecksum_mode,\n\u001B[1;32m    236\u001B[0m         bsm\u001B[38;5;241m=\u001B[39mbsm,\n\u001B[1;32m    237\u001B[0m     )\n\u001B[1;32m    238\u001B[0m     \u001B[38;5;28;01mreturn\u001B[39;00m data\u001B[38;5;241m.\u001B[39mdecode(encoding, errors\u001B[38;5;241m=\u001B[39merrors)\n",
      "File \u001B[0;32m~/Documents/GitHub/s3pathlib-project/s3pathlib/core/rw.py:110\u001B[0m, in \u001B[0;36mread_bytes\u001B[0;34m(self, version_id, if_match, if_modified_since, if_none_match, if_unmodified_since, range, response_cache_control, response_content_disposition, response_content_encoding, response_content_language, response_content_type, response_expires, sse_customer_algorithm, sse_customer_key, request_payer, part_number, expected_bucket_owner, checksum_mode, bsm)\u001B[0m\n\u001B[1;32m     56\u001B[0m \u001B[38;5;250m\u001B[39m\u001B[38;5;124;03m\"\"\"\u001B[39;00m\n\u001B[1;32m     57\u001B[0m \u001B[38;5;124;03mRead binary data from s3 object.\u001B[39;00m\n\u001B[1;32m     58\u001B[0m \u001B[38;5;124;03mA simple wrapper around get_object_.\u001B[39;00m\n\u001B[0;32m   (...)\u001B[0m\n\u001B[1;32m    105\u001B[0m \u001B[38;5;124;03m    arguments.\u001B[39;00m\n\u001B[1;32m    106\u001B[0m \u001B[38;5;124;03m\"\"\"\u001B[39;00m\n\u001B[1;32m    107\u001B[0m s3_client \u001B[38;5;241m=\u001B[39m resolve_s3_client(context, bsm)\n\u001B[1;32m    108\u001B[0m response \u001B[38;5;241m=\u001B[39m s3_client\u001B[38;5;241m.\u001B[39mget_object(\n\u001B[1;32m    109\u001B[0m     \u001B[38;5;241m*\u001B[39m\u001B[38;5;241m*\u001B[39mresolve_kwargs(\n\u001B[0;32m--> 110\u001B[0m         Bucket\u001B[38;5;241m=\u001B[39m\u001B[38;5;28mself\u001B[39m\u001B[38;5;241m.\u001B[39mbucket,\n\u001B[1;32m    111\u001B[0m         Key\u001B[38;5;241m=\u001B[39m\u001B[38;5;28mself\u001B[39m\u001B[38;5;241m.\u001B[39mkey,\n\u001B[1;32m    112\u001B[0m         VersionId\u001B[38;5;241m=\u001B[39mversion_id,\n\u001B[1;32m    113\u001B[0m         IfMatch\u001B[38;5;241m=\u001B[39mif_match,\n\u001B[1;32m    114\u001B[0m         IfModifiedSince\u001B[38;5;241m=\u001B[39mif_modified_since,\n\u001B[1;32m    115\u001B[0m         IfNoneMatch\u001B[38;5;241m=\u001B[39mif_none_match,\n\u001B[1;32m    116\u001B[0m         IfUnmodifiedSince\u001B[38;5;241m=\u001B[39mif_unmodified_since,\n\u001B[1;32m    117\u001B[0m         Range\u001B[38;5;241m=\u001B[39m\u001B[38;5;28mrange\u001B[39m,\n\u001B[1;32m    118\u001B[0m         ResponseCacheControl\u001B[38;5;241m=\u001B[39mresponse_cache_control,\n\u001B[1;32m    119\u001B[0m         ResponseContentDisposition\u001B[38;5;241m=\u001B[39mresponse_content_disposition,\n\u001B[1;32m    120\u001B[0m         ResponseContentEncoding\u001B[38;5;241m=\u001B[39mresponse_content_encoding,\n\u001B[1;32m    121\u001B[0m         ResponseContentLanguage\u001B[38;5;241m=\u001B[39mresponse_content_language,\n\u001B[1;32m    122\u001B[0m         ResponseContentType\u001B[38;5;241m=\u001B[39mresponse_content_type,\n\u001B[1;32m    123\u001B[0m         ResponseExpires\u001B[38;5;241m=\u001B[39mresponse_expires,\n\u001B[1;32m    124\u001B[0m         SSECustomerAlgorithm\u001B[38;5;241m=\u001B[39msse_customer_algorithm,\n\u001B[1;32m    125\u001B[0m         SSECustomerKey\u001B[38;5;241m=\u001B[39msse_customer_key,\n\u001B[1;32m    126\u001B[0m         RequestPayer\u001B[38;5;241m=\u001B[39mrequest_payer,\n\u001B[1;32m    127\u001B[0m         PartNumber\u001B[38;5;241m=\u001B[39mpart_number,\n\u001B[1;32m    128\u001B[0m         ExpectedBucketOwner\u001B[38;5;241m=\u001B[39mexpected_bucket_owner,\n\u001B[1;32m    129\u001B[0m         ChecksumMode\u001B[38;5;241m=\u001B[39mchecksum_mode,\n\u001B[1;32m    130\u001B[0m     ),\n\u001B[1;32m    131\u001B[0m )\n\u001B[1;32m    132\u001B[0m \u001B[38;5;66;03m# print(\"--- get_object response ---\")\u001B[39;00m\n\u001B[1;32m    133\u001B[0m \u001B[38;5;66;03m# pprint(response)\u001B[39;00m\n\u001B[1;32m    134\u001B[0m data \u001B[38;5;241m=\u001B[39m response[\u001B[38;5;124m\"\u001B[39m\u001B[38;5;124mBody\u001B[39m\u001B[38;5;124m\"\u001B[39m]\u001B[38;5;241m.\u001B[39mread()\n",
      "File \u001B[0;32m~/venvs/python/3.8.11/s3pathlib_venv/lib/python3.8/site-packages/botocore/client.py:530\u001B[0m, in \u001B[0;36mClientCreator._create_api_method.<locals>._api_call\u001B[0;34m(self, *args, **kwargs)\u001B[0m\n\u001B[1;32m    526\u001B[0m     \u001B[38;5;28;01mraise\u001B[39;00m \u001B[38;5;167;01mTypeError\u001B[39;00m(\n\u001B[1;32m    527\u001B[0m         \u001B[38;5;124mf\u001B[39m\u001B[38;5;124m\"\u001B[39m\u001B[38;5;132;01m{\u001B[39;00mpy_operation_name\u001B[38;5;132;01m}\u001B[39;00m\u001B[38;5;124m() only accepts keyword arguments.\u001B[39m\u001B[38;5;124m\"\u001B[39m\n\u001B[1;32m    528\u001B[0m     )\n\u001B[1;32m    529\u001B[0m \u001B[38;5;66;03m# The \"self\" in this scope is referring to the BaseClient.\u001B[39;00m\n\u001B[0;32m--> 530\u001B[0m \u001B[38;5;28;01mreturn\u001B[39;00m \u001B[38;5;28;43mself\u001B[39;49m\u001B[38;5;241;43m.\u001B[39;49m\u001B[43m_make_api_call\u001B[49m\u001B[43m(\u001B[49m\u001B[43moperation_name\u001B[49m\u001B[43m,\u001B[49m\u001B[43m \u001B[49m\u001B[43mkwargs\u001B[49m\u001B[43m)\u001B[49m\n",
      "File \u001B[0;32m~/venvs/python/3.8.11/s3pathlib_venv/lib/python3.8/site-packages/botocore/client.py:960\u001B[0m, in \u001B[0;36mBaseClient._make_api_call\u001B[0;34m(self, operation_name, api_params)\u001B[0m\n\u001B[1;32m    958\u001B[0m     error_code \u001B[38;5;241m=\u001B[39m parsed_response\u001B[38;5;241m.\u001B[39mget(\u001B[38;5;124m\"\u001B[39m\u001B[38;5;124mError\u001B[39m\u001B[38;5;124m\"\u001B[39m, {})\u001B[38;5;241m.\u001B[39mget(\u001B[38;5;124m\"\u001B[39m\u001B[38;5;124mCode\u001B[39m\u001B[38;5;124m\"\u001B[39m)\n\u001B[1;32m    959\u001B[0m     error_class \u001B[38;5;241m=\u001B[39m \u001B[38;5;28mself\u001B[39m\u001B[38;5;241m.\u001B[39mexceptions\u001B[38;5;241m.\u001B[39mfrom_code(error_code)\n\u001B[0;32m--> 960\u001B[0m     \u001B[38;5;28;01mraise\u001B[39;00m error_class(parsed_response, operation_name)\n\u001B[1;32m    961\u001B[0m \u001B[38;5;28;01melse\u001B[39;00m:\n\u001B[1;32m    962\u001B[0m     \u001B[38;5;28;01mreturn\u001B[39;00m parsed_response\n",
      "\u001B[0;31mClientError\u001B[0m: An error occurred (NoSuchVersion) when calling the GetObject operation: The specified version does not exist."
     ]
    }
   ],
   "source": [
    "s3path.delete(version_id=v1)\n",
    "s3path.read_text(version_id=v1)"
   ],
   "metadata": {
    "collapsed": false,
    "pycharm": {
     "name": "#%%\n"
    }
   }
  },
  {
   "cell_type": "code",
   "execution_count": 26,
   "outputs": [
    {
     "data": {
      "text/plain": "[S3Path('s3://s3pathlib-versioning-enabled/file.txt'),\n S3Path('s3://s3pathlib-versioning-enabled/file.txt')]"
     },
     "execution_count": 26,
     "metadata": {},
     "output_type": "execute_result"
    }
   ],
   "source": [
    "s3path.list_object_versions().all()"
   ],
   "metadata": {
    "collapsed": false,
    "pycharm": {
     "name": "#%%\n"
    }
   }
  },
  {
   "cell_type": "code",
   "execution_count": 27,
   "outputs": [
    {
     "data": {
      "text/plain": "[]"
     },
     "execution_count": 27,
     "metadata": {},
     "output_type": "execute_result"
    }
   ],
   "source": [
    "# Delete all versions of an object (permanently delete)\n",
    "s3path.delete(is_hard_delete=True)\n",
    "s3path.list_object_versions().all()"
   ],
   "metadata": {
    "collapsed": false,
    "pycharm": {
     "name": "#%%\n"
    }
   }
  },
  {
   "cell_type": "code",
   "execution_count": 28,
   "outputs": [
    {
     "data": {
      "text/plain": "[S3Path('s3://s3pathlib-versioning-enabled/tmp/file1.txt'),\n S3Path('s3://s3pathlib-versioning-enabled/tmp/file1.txt'),\n S3Path('s3://s3pathlib-versioning-enabled/tmp/file2.txt'),\n S3Path('s3://s3pathlib-versioning-enabled/tmp/file2.txt')]"
     },
     "execution_count": 28,
     "metadata": {},
     "output_type": "execute_result"
    }
   ],
   "source": [
    "# Delete all objects all versions in a directory (permanently delete)\n",
    "s3dir = S3Path(\"s3://s3pathlib-versioning-enabled/tmp/\")\n",
    "s3path1 = s3dir.joinpath(\"file1.txt\")\n",
    "s3path2 = s3dir.joinpath(\"file2.txt\")\n",
    "s3dir.delete(is_hard_delete=True)\n",
    "s3path1.write_text(\"v1\")\n",
    "s3path1.write_text(\"v2\")\n",
    "s3path2.write_text(\"v1\")\n",
    "s3path2.write_text(\"v2\")\n",
    "s3dir.list_object_versions().all()"
   ],
   "metadata": {
    "collapsed": false,
    "pycharm": {
     "name": "#%%\n"
    }
   }
  },
  {
   "cell_type": "code",
   "execution_count": 29,
   "outputs": [
    {
     "data": {
      "text/plain": "[]"
     },
     "execution_count": 29,
     "metadata": {},
     "output_type": "execute_result"
    }
   ],
   "source": [
    "s3path.delete(is_hard_delete=True)\n",
    "s3path.list_object_versions().all()"
   ],
   "metadata": {
    "collapsed": false,
    "pycharm": {
     "name": "#%%\n"
    }
   }
  },
  {
   "cell_type": "markdown",
   "source": [
    "**Copy**"
   ],
   "metadata": {
    "collapsed": false,
    "pycharm": {
     "name": "#%% md\n"
    }
   }
  },
  {
   "cell_type": "code",
   "execution_count": 11,
   "outputs": [
    {
     "name": "stdout",
     "output_type": "stream",
     "text": [
      "Copy s3://s3pathlib/source/data.json to s3://s3pathlib/target/data.json ...\n",
      "content of s3://s3pathlib/target/data.json is: 'this is data'\n",
      "S3Path('s3://s3pathlib/source/data.json') still exists: True\n"
     ]
    }
   ],
   "source": [
    "s3path_source = S3Path(\"s3://s3pathlib/source/data.json\")\n",
    "s3path_source.write_text(\"this is data\")\n",
    "s3path_target = s3path.change(new_dirname=\"target\")\n",
    "print(f\"Copy {s3path_source.uri} to {s3path_target.uri} ...\")\n",
    "s3path_source.copy_to(s3path_target, overwrite=True)\n",
    "print(f\"content of {s3path_target.uri} is: {s3path_target.read_text()!r}\")\n",
    "print(f\"{s3path_source} still exists: {s3path_source.exists()}\")"
   ],
   "metadata": {
    "collapsed": false,
    "pycharm": {
     "name": "#%%\n"
    }
   }
  },
  {
   "cell_type": "markdown",
   "source": [
    "**Move**\n",
    "\n",
    "move is actually copy then delete the original file. It's a shortcut of ``copy_to`` and ``delete``."
   ],
   "metadata": {
    "collapsed": false,
    "pycharm": {
     "name": "#%% md\n"
    }
   }
  },
  {
   "cell_type": "code",
   "execution_count": 12,
   "outputs": [
    {
     "name": "stdout",
     "output_type": "stream",
     "text": [
      "Copy s3://s3pathlib/source/config.yml to s3://s3pathlib/target/data.json ...\n",
      "content of s3://s3pathlib/target/data.json is: 'this is config'\n",
      "S3Path('s3://s3pathlib/source/config.yml') still exists: False\n"
     ]
    }
   ],
   "source": [
    "s3path_source = S3Path(\"s3://s3pathlib/source/config.yml\")\n",
    "s3path_source.write_text(\"this is config\")\n",
    "s3path_target = s3path.change(new_dirname=\"target\")\n",
    "print(f\"Copy {s3path_source.uri} to {s3path_target.uri} ...\")\n",
    "s3path_source.move_to(s3path_target, overwrite=True)\n",
    "print(f\"content of {s3path_target.uri} is: {s3path_target.read_text()!r}\")\n",
    "print(f\"{s3path_source} still exists: {s3path_source.exists()}\")"
   ],
   "metadata": {
    "collapsed": false,
    "pycharm": {
     "name": "#%%\n"
    }
   }
  },
  {
   "cell_type": "code",
   "execution_count": null,
   "outputs": [],
   "source": [],
   "metadata": {
    "collapsed": false,
    "pycharm": {
     "name": "#%%\n"
    }
   }
  }
 ],
 "metadata": {
  "kernelspec": {
   "display_name": "Python 3",
   "language": "python",
   "name": "python3"
  },
  "language_info": {
   "codemirror_mode": {
    "name": "ipython",
    "version": 2
   },
   "file_extension": ".py",
   "mimetype": "text/x-python",
   "name": "python",
   "nbconvert_exporter": "python",
   "pygments_lexer": "ipython2",
   "version": "2.7.6"
  }
 },
 "nbformat": 4,
 "nbformat_minor": 0
}