{
 "cells": [
  {
   "cell_type": "markdown",
   "source": [
    "# S3 Read API"
   ],
   "metadata": {
    "collapsed": false,
    "pycharm": {
     "name": "#%% md\n"
    }
   },
   "execution_count": 0
  },
  {
   "cell_type": "raw",
   "source": [
    ".. article-info::\n",
    "    :avatar-outline: muted\n",
    "    :author: Sanhe\n",
    "    :date: Apr 20, 2023\n",
    "    :read-time: 15 min read\n",
    "    :class-container: sd-p-2 sd-outline-muted sd-rounded-1"
   ],
   "metadata": {
    "collapsed": false,
    "raw_mimetype": "text/restructuredtext",
    "pycharm": {
     "name": "#%% raw\n"
    }
   }
  },
  {
   "cell_type": "markdown",
   "source": [
    "## What is S3 Read API\n",
    "\n",
    "AWS S3 provides [wide range of APIs](https://boto3.amazonaws.com/v1/documentation/api/latest/reference/services/s3.html), but some of these functions only retrieve information from the server without changing the state of the S3 bucket (e.g. no files are moved, changed, or deleted). Unlike Write API functions, using Read API functions improperly **will NOT** cause any negative impact. Therefore, it is recommended to start by exploring the Read API functions before diving into the Write API.\n",
    "\n",
    "## Configure the AWS Context object"
   ],
   "metadata": {
    "collapsed": false,
    "pycharm": {
     "name": "#%% md\n"
    }
   }
  },
  {
   "cell_type": "raw",
   "source": [
    "Before you can run any AWS API, you must first authenticate. The :class:`~s3pathlib.aws.Context` is a singleton object that manages authenticated sessions.\n",
    "\n",
    "To get started, it's necessary to configure `AWS CLI <https://aws.amazon.com/cli/>`_ credentials on your local machine. If you're unsure how to do this, you can follow `this official guide <https://docs.aws.amazon.com/cli/latest/userguide/cli-chap-configure.html>`_ provided by AWS.\n",
    "\n",
    "Once it's done, you can run the following command to test your authentication."
   ],
   "metadata": {
    "collapsed": false,
    "raw_mimetype": "text/restructuredtext",
    "pycharm": {
     "name": "#%% raw\n"
    }
   }
  },
  {
   "cell_type": "code",
   "execution_count": 4,
   "outputs": [
    {
     "name": "stdout",
     "output_type": "stream",
     "text": [
      "{\r\n",
      "    \"UserId\": \"ABCDEFABCDEFABCDEFABC\",\r\n",
      "    \"Account\": \"111122223333\",\r\n",
      "    \"Arn\": \"arn:aws:iam::111122223333:user/johndoe\"\r\n",
      "}\r\n"
     ]
    }
   ],
   "source": [
    "!aws sts get-caller-identity"
   ],
   "metadata": {
    "collapsed": false,
    "pycharm": {
     "name": "#%%\n"
    }
   }
  },
  {
   "cell_type": "markdown",
   "source": [
    "The ``Context`` object stores a pre-authenticated [boto session](https://boto3.amazonaws.com/v1/documentation/api/latest/guide/session.html), which is created using your default credentials (if available). However, you can also configure a custom boto session yourself and attach it to the context."
   ],
   "metadata": {
    "collapsed": false,
    "pycharm": {
     "name": "#%% md\n"
    }
   }
  },
  {
   "cell_type": "code",
   "execution_count": 6,
   "outputs": [],
   "source": [
    "import boto3\n",
    "from s3pathlib import context\n",
    "\n",
    "context.attach_boto_session(\n",
    "    boto3.session.Session(\n",
    "        region_name=\"us-east-1\",\n",
    "        profile_name=\"my_aws_profile\",\n",
    "    )\n",
    ")"
   ],
   "metadata": {
    "collapsed": false,
    "pycharm": {
     "name": "#%%\n"
    }
   }
  },
  {
   "cell_type": "markdown",
   "source": [
    "When ``s3pathlib`` making AWS API calls, it prioritize to use the boto session stored in the Context object. However, you can always explicitly pass in a custom boto session to the API call if needed."
   ],
   "metadata": {
    "collapsed": false,
    "pycharm": {
     "name": "#%% md\n"
    }
   }
  },
  {
   "cell_type": "code",
   "execution_count": 10,
   "outputs": [],
   "source": [
    "from s3pathlib import S3Path\n",
    "from boto_session_manager import BotoSesManager\n",
    "\n",
    "bsm = BotoSesManager(\n",
    "    region_name=\"us-east-1\",\n",
    "    profile_name=\"my_aws_profile\",\n",
    ")\n",
    "s3path = S3Path(\"s3://my-bucket/test.txt\")\n",
    "_ = s3path.write_text(\"hello world\", bsm=bsm) # explicit pass the boto session"
   ],
   "metadata": {
    "collapsed": false,
    "pycharm": {
     "name": "#%%\n"
    }
   }
  },
  {
   "cell_type": "markdown",
   "source": [
    "If you are running the code from Cloud machine like AWS EC2 or AWS Lambda, follow [this official guide](https://docs.aws.amazon.com/AWSEC2/latest/UserGuide/iam-roles-for-amazon-ec2.html) to grant your computational machine proper AWS S3 access."
   ],
   "metadata": {
    "collapsed": false,
    "pycharm": {
     "name": "#%% md\n"
    }
   }
  },
  {
   "cell_type": "markdown",
   "source": [
    "## Get S3 Object Metadata"
   ],
   "metadata": {
    "collapsed": false,
    "pycharm": {
     "name": "#%% md\n"
    }
   }
  },
  {
   "cell_type": "raw",
   "source": [
    "An object consists of data and its `descriptive metadata <https://docs.aws.amazon.com/AmazonS3/latest/API/API_Object.html>`_. ``s3pathlib`` provides a user-friendly interface for accessing object metadata without needing to explicitly invoke the API. Additionally, it automatically caches the underlying `head_object <https://boto3.amazonaws.com/v1/documentation/api/latest/reference/services/s3/client/head_object.html>`_ API response for improved performance.\n",
    "\n",
    "- :attr:`~s3pathlib.core.metadata.MetadataAPIMixin.etag`\n",
    "- :attr:`~s3pathlib.core.metadata.MetadataAPIMixin.last_modified_at`\n",
    "- :attr:`~s3pathlib.core.metadata.MetadataAPIMixin.size`\n",
    "- :attr:`~s3pathlib.core.metadata.MetadataAPIMixin.size_for_human`\n",
    "- :attr:`~s3pathlib.core.metadata.MetadataAPIMixin.version_id`\n",
    "- :attr:`~s3pathlib.core.metadata.MetadataAPIMixin.expire_at`"
   ],
   "metadata": {
    "collapsed": false,
    "raw_mimetype": "text/restructuredtext",
    "pycharm": {
     "name": "#%% raw\n"
    }
   }
  },
  {
   "cell_type": "code",
   "execution_count": 13,
   "outputs": [
    {
     "data": {
      "text/plain": "S3Path('s3://s3pathlib/test.txt')"
     },
     "execution_count": 13,
     "metadata": {},
     "output_type": "execute_result"
    }
   ],
   "source": [
    "s3path = S3Path(\"s3://s3pathlib/test.txt\")\n",
    "s3path.write_text(\"hello world\" * 1000) # create a test object"
   ],
   "metadata": {
    "collapsed": false,
    "pycharm": {
     "name": "#%%\n"
    }
   }
  },
  {
   "cell_type": "code",
   "execution_count": 14,
   "outputs": [
    {
     "data": {
      "text/plain": "'4d5d1cba9eb18884a5410f4b83bc6951'"
     },
     "execution_count": 14,
     "metadata": {},
     "output_type": "execute_result"
    }
   ],
   "source": [
    "s3path.etag"
   ],
   "metadata": {
    "collapsed": false,
    "pycharm": {
     "name": "#%%\n"
    }
   }
  },
  {
   "cell_type": "code",
   "execution_count": 15,
   "outputs": [
    {
     "data": {
      "text/plain": "datetime.datetime(2023, 4, 20, 7, 1, 13, tzinfo=tzutc())"
     },
     "execution_count": 15,
     "metadata": {},
     "output_type": "execute_result"
    }
   ],
   "source": [
    "s3path.last_modified_at"
   ],
   "metadata": {
    "collapsed": false,
    "pycharm": {
     "name": "#%%\n"
    }
   }
  },
  {
   "cell_type": "code",
   "execution_count": 16,
   "outputs": [
    {
     "data": {
      "text/plain": "11000"
     },
     "execution_count": 16,
     "metadata": {},
     "output_type": "execute_result"
    }
   ],
   "source": [
    "s3path.size"
   ],
   "metadata": {
    "collapsed": false,
    "pycharm": {
     "name": "#%%\n"
    }
   }
  },
  {
   "cell_type": "code",
   "execution_count": 17,
   "outputs": [
    {
     "data": {
      "text/plain": "'10.74 KB'"
     },
     "execution_count": 17,
     "metadata": {},
     "output_type": "execute_result"
    }
   ],
   "source": [
    "s3path.size_for_human"
   ],
   "metadata": {
    "collapsed": false,
    "pycharm": {
     "name": "#%%\n"
    }
   }
  },
  {
   "cell_type": "code",
   "execution_count": 18,
   "outputs": [
    {
     "data": {
      "text/plain": "'null'"
     },
     "execution_count": 18,
     "metadata": {},
     "output_type": "execute_result"
    }
   ],
   "source": [
    "s3path.version_id"
   ],
   "metadata": {
    "collapsed": false,
    "pycharm": {
     "name": "#%%\n"
    }
   }
  },
  {
   "cell_type": "code",
   "execution_count": 23,
   "outputs": [
    {
     "name": "stdout",
     "output_type": "stream",
     "text": [
      "None\n"
     ]
    }
   ],
   "source": [
    "print(s3path.expire_at)"
   ],
   "metadata": {
    "collapsed": false,
    "pycharm": {
     "name": "#%%\n"
    }
   }
  },
  {
   "cell_type": "raw",
   "source": [
    ".. note::\n",
    "\n",
    "    Metadata is cached only once, either when it's first accessed or when the `get_object <https://boto3.amazonaws.com/v1/documentation/api/latest/reference/services/s3/client/get_object.html>`_ API is called. The cache is not automatically refreshed and cannot detect server-side changes. To obtain the latest server-side metadata value, you can use the :meth:`~s3pathlib.core.metadata.MetadataAPIMixin.clear_cache` method to clear the cache. The latest data will be retrieved on the next attempt to access the metadata.\n",
    "\n",
    "    please see the following example."
   ],
   "metadata": {
    "collapsed": false,
    "raw_mimetype": "text/restructuredtext",
    "pycharm": {
     "name": "#%% raw\n"
    }
   }
  },
  {
   "cell_type": "code",
   "execution_count": 26,
   "outputs": [
    {
     "name": "stdout",
     "output_type": "stream",
     "text": [
      "11\n",
      "{'creator': 's3pathlib'}\n"
     ]
    }
   ],
   "source": [
    "# Create a test file\n",
    "s3path = S3Path(\"s3://s3pathlib/file-with-metadata.txt\")\n",
    "s3path.write_text(\"hello world\", metadata={\"creator\": \"s3pathlib\"})\n",
    "print(s3path.size)\n",
    "print(s3path.metadata)"
   ],
   "metadata": {
    "collapsed": false,
    "pycharm": {
     "name": "#%%\n"
    }
   }
  },
  {
   "cell_type": "code",
   "execution_count": 27,
   "outputs": [
    {
     "name": "stdout",
     "output_type": "stream",
     "text": [
      "11\n",
      "{'creator': 's3pathlib'}\n"
     ]
    }
   ],
   "source": [
    "# The server side data is changed\n",
    "s3path.write_text(\"hello charlice\", metadata={\"creator\": \"charlice\"})\n",
    "# You still see the old data\n",
    "print(s3path.size)\n",
    "print(s3path.metadata)"
   ],
   "metadata": {
    "collapsed": false,
    "pycharm": {
     "name": "#%%\n"
    }
   }
  },
  {
   "cell_type": "code",
   "execution_count": 28,
   "outputs": [
    {
     "name": "stdout",
     "output_type": "stream",
     "text": [
      "14\n",
      "{'creator': 'charlice'}\n"
     ]
    }
   ],
   "source": [
    "# After you clear the cache, you got the latest data\n",
    "s3path.clear_cache()\n",
    "print(s3path.size)\n",
    "print(s3path.metadata)"
   ],
   "metadata": {
    "collapsed": false,
    "pycharm": {
     "name": "#%%\n"
    }
   }
  },
  {
   "cell_type": "code",
   "execution_count": null,
   "outputs": [],
   "source": [],
   "metadata": {
    "collapsed": false,
    "pycharm": {
     "name": "#%%\n"
    }
   }
  }
 ],
 "metadata": {
  "kernelspec": {
   "display_name": "Python 3",
   "language": "python",
   "name": "python3"
  },
  "language_info": {
   "codemirror_mode": {
    "name": "ipython",
    "version": 2
   },
   "file_extension": ".py",
   "mimetype": "text/x-python",
   "name": "python",
   "nbconvert_exporter": "python",
   "pygments_lexer": "ipython2",
   "version": "2.7.6"
  }
 },
 "nbformat": 4,
 "nbformat_minor": 0
}